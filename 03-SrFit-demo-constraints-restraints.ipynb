{
 "cells": [
  {
   "cell_type": "markdown",
   "metadata": {},
   "source": [
    "# SrFit example for a simple linear fit to a noisy data."
   ]
  },
  {
   "cell_type": "markdown",
   "metadata": {},
   "source": [
    "Simulate linear data with some random Gaussian noise and plot the generated \"observed\" data (xobs, yobs)."
   ]
  },
  {
   "cell_type": "code",
   "execution_count": 3,
   "metadata": {
    "collapsed": false
   },
   "outputs": [
    {
     "name": "stdout",
     "output_type": "stream",
     "text": [
      "Using matplotlib backend: module://IPython.kernel.zmq.pylab.backend_inline\n",
      "Populating the interactive namespace from numpy and matplotlib\n"
     ]
    },
    {
     "data": {
      "text/plain": [
       "<matplotlib.text.Text at 0x348f9d0>"
      ]
     },
     "execution_count": 3,
     "metadata": {},
     "output_type": "execute_result"
    },
    {
     "data": {
      "image/png": "[encoded data removed]",
      "text/plain": [
       "<matplotlib.figure.Figure at 0x3417650>"
      ]
     },
     "metadata": {},
     "output_type": "display_data"
    }
   ],
   "source": [
    "%matplotlib inline\n",
    "from __future__ import print_function\n",
    "import numpy as np\n",
    "xobs = np.arange(-10, 10.1)\n",
    "dyobs = 0.3 * np.ones_like(xobs)\n",
    "yobs = 0.5 * xobs + 3 + dyobs * np.random.randn(xobs.size)\n",
    "plot(xobs, yobs, 'x')\n",
    "title('y = 0.5*x + 3 generated with a normal noise at sigma=0.3')"
   ]
  },
  {
   "cell_type": "markdown",
   "metadata": {},
   "source": [
    "We are going to define a line fitting regression using SrFit.\n",
    "At first we create a SrFit Profile object that holds the observed data."
   ]
  },
  {
   "cell_type": "code",
   "execution_count": 4,
   "metadata": {
    "collapsed": false
   },
   "outputs": [],
   "source": [
    "from diffpy.srfit.fitbase import Profile\n",
    "linedata = Profile()\n",
    "linedata.setObservedProfile(xobs, yobs, dyobs)"
   ]
  },
  {
   "cell_type": "markdown",
   "metadata": {},
   "source": [
    "The second step is to create a FitContribution object, which associates observed profile with a mathematical model for the dependent variable."
   ]
  },
  {
   "cell_type": "code",
   "execution_count": 5,
   "metadata": {
    "collapsed": false
   },
   "outputs": [],
   "source": [
    "from diffpy.srfit.fitbase import FitContribution\n",
    "linefit = FitContribution('linefit')\n",
    "linefit.setProfile(linedata)\n",
    "linefit.setEquation(\"A * x + B\")"
   ]
  },
  {
   "cell_type": "markdown",
   "metadata": {},
   "source": [
    " SrFit objects can be examined by calling their **show()** function.  SrFit\n",
    " parses the model equation and finds two parameters A, B at independent\n",
    " variable x.  The values of parameters A, B are at this stage undefined.\n"
   ]
  },
  {
   "cell_type": "code",
   "execution_count": 6,
   "metadata": {
    "collapsed": false
   },
   "outputs": [
    {
     "name": "stdout",
     "output_type": "stream",
     "text": [
      "linefit\n",
      "-------------------------------------------------------------------------------\n",
      "A                    None\n",
      "B                    None\n",
      "dy                   [ 0.3  0.3  0.3  0.3  0.3  0.3  0.3  0.3  0.3  0.3  0.3  0\n",
      "x                    [-10.  -9.  -8.  -7.  -6.  -5.  -4.  -3.  -2.  -1.   0.   \n",
      "y                    [-1.82250666 -1.6817787  -1.37786885  0.28259586 -0.423625\n",
      "\n",
      "\n"
     ]
    }
   ],
   "source": [
    "linefit.show()"
   ]
  },
  {
   "cell_type": "markdown",
   "metadata": {},
   "source": [
    "We can set A and B to some specific values and calculate model\n",
    "observations.  The x and y attributes of the FitContribution are \n",
    "the observed values, which may be re-sampled or truncated to a shorter \n",
    "fitting range."
   ]
  },
  {
   "cell_type": "code",
   "execution_count": 7,
   "metadata": {
    "collapsed": false
   },
   "outputs": [
    {
     "name": "stdout",
     "output_type": "stream",
     "text": [
      "Parameter(A) 3\n",
      "Parameter(B) 5\n"
     ]
    }
   ],
   "source": [
    "linefit.A\n",
    "linefit.A = 3\n",
    "linefit.B = 5\n",
    "print(linefit.A, linefit.A.value)\n",
    "print(linefit.B, linefit.B.value)"
   ]
  },
  {
   "cell_type": "markdown",
   "metadata": {},
   "source": [
    "`linefit.evaluate()` returns the modeled values and `linefit.residual()`,\n",
    "the difference between observed and modeled data scaled by estimated\n",
    "standard deviations."
   ]
  },
  {
   "cell_type": "code",
   "execution_count": 8,
   "metadata": {
    "collapsed": false
   },
   "outputs": [
    {
     "name": "stdout",
     "output_type": "stream",
     "text": [
      "linefit.evaluate() = [-25. -22. -19. -16. -13. -10.  -7.  -4.  -1.   2.   5.   8.  11.  14.  17.\n",
      "  20.  23.  26.  29.  32.  35.]\n",
      "linefit.residual() = [-77.25831114 -67.72740435 -58.74043717 -54.27531953 -41.92124932\n",
      " -35.13272106 -27.13771558 -17.19014009  -9.0058639   -2.20367056\n",
      "   7.48349382  15.42490371  24.0876991   31.96096047  38.44689144\n",
      "  47.56940293  55.64124334  65.7878908   73.60530021  82.03035839\n",
      "  88.75175173]\n"
     ]
    },
    {
     "data": {
      "text/plain": [
       "<matplotlib.text.Text at 0x3a340d0>"
      ]
     },
     "execution_count": 8,
     "metadata": {},
     "output_type": "execute_result"
    },
    {
     "data": {
      "image/png": "[encoded data removed]",
      "text/plain": [
       "<matplotlib.figure.Figure at 0x3a18d50>"
      ]
     },
     "metadata": {},
     "output_type": "display_data"
    }
   ],
   "source": [
    "print(\"linefit.evaluate() =\", linefit.evaluate())\n",
    "print(\"linefit.residual() =\", linefit.residual())\n",
    "plot(xobs, yobs, 'x', linedata.x, linefit.evaluate(), '-')\n",
    "title('Line simulated at A=3, B=5')"
   ]
  },
  {
   "cell_type": "markdown",
   "metadata": {},
   "source": [
    " We want to find the optimum model parameters that fit the simulated curve\n",
    " to the observations.  This is done by associating FitContribution with\n",
    " a FitRecipe object.  FitRecipe can manage multiple fit contributions and\n",
    " optimize all models to fit their respective profiles."
   ]
  },
  {
   "cell_type": "code",
   "execution_count": 9,
   "metadata": {
    "collapsed": false
   },
   "outputs": [],
   "source": [
    "from diffpy.srfit.fitbase import FitRecipe\n",
    "rec = FitRecipe()"
   ]
  },
  {
   "cell_type": "markdown",
   "metadata": {},
   "source": [
    "The `clearFitHooks()` function suppresses printout of iteration numbers.  The `addContribution()` function includes the specified FitContribution in the FitRecipe, which acts as a top-level manager of all associated fits. "
   ]
  },
  {
   "cell_type": "code",
   "execution_count": 10,
   "metadata": {
    "collapsed": false
   },
   "outputs": [
    {
     "name": "stdout",
     "output_type": "stream",
     "text": [
      "fit\n",
      "\n",
      "  linefit\n",
      "  -----------------------------------------------------------------------------\n",
      "  A                    3\n",
      "  B                    5\n",
      "  dy                   [ 0.3  0.3  0.3  0.3  0.3  0.3  0.3  0.3  0.3  0.3  0.3 \n",
      "  x                    [-10.  -9.  -8.  -7.  -6.  -5.  -4.  -3.  -2.  -1.   0. \n",
      "  y                    [-1.82250666 -1.6817787  -1.37786885  0.28259586 -0.4236\n",
      "\n",
      "\n"
     ]
    }
   ],
   "source": [
    "rec.clearFitHooks()\n",
    "rec.addContribution(linefit)\n",
    "rec.show()"
   ]
  },
  {
   "cell_type": "markdown",
   "metadata": {},
   "source": [
    " FitContributions may have many parameters.  We need to tell the recipe\n",
    " which of them should be controlled and potentially optimized in a fit."
   ]
  },
  {
   "cell_type": "code",
   "execution_count": 11,
   "metadata": {
    "collapsed": false
   },
   "outputs": [
    {
     "data": {
      "text/plain": [
       "<diffpy.srfit.fitbase.parameter.ParameterProxy at 0x3b18e10>"
      ]
     },
     "execution_count": 11,
     "metadata": {},
     "output_type": "execute_result"
    }
   ],
   "source": [
    "rec.addVar(rec.linefit.A)\n",
    "rec.addVar(rec.linefit.B)"
   ]
  },
  {
   "cell_type": "markdown",
   "metadata": {},
   "source": [
    " The call of the addVar function also created two attributes A and B for the rec object,\n",
    " which link to the A and B parameters of the linefit contribution.\n"
   ]
  },
  {
   "cell_type": "code",
   "execution_count": 12,
   "metadata": {
    "collapsed": false
   },
   "outputs": [
    {
     "name": "stdout",
     "output_type": "stream",
     "text": [
      "rec.A = ParameterProxy(A)\n",
      "rec.A.value = 3\n"
     ]
    }
   ],
   "source": [
    "print(\"rec.A =\", rec.A)\n",
    "print(\"rec.A.value =\", rec.A.value)"
   ]
  },
  {
   "cell_type": "markdown",
   "metadata": {},
   "source": [
    " The names of the declared variables are stored in the `rec.names` attribute\n",
    " and the corresponding values in `rec.values`."
   ]
  },
  {
   "cell_type": "code",
   "execution_count": 13,
   "metadata": {
    "collapsed": false
   },
   "outputs": [
    {
     "name": "stdout",
     "output_type": "stream",
     "text": [
      "rec.values = [3 5]\n",
      "rec.names = ['A', 'B']\n"
     ]
    }
   ],
   "source": [
    "print(\"rec.values =\", rec.values)\n",
    "print(\"rec.names =\", rec.names)"
   ]
  },
  {
   "cell_type": "markdown",
   "metadata": {},
   "source": [
    " Finally the recipe objects provides a residual() function to calculate\n",
    " the difference between the observed and simulated values.  The residual\n",
    " function can accept a list of new variable values in the same order as\n",
    " rec.names."
   ]
  },
  {
   "cell_type": "code",
   "execution_count": 14,
   "metadata": {
    "collapsed": false
   },
   "outputs": [
    {
     "name": "stdout",
     "output_type": "stream",
     "text": [
      "rec.residual() = [-77.25831114 -67.72740435 -58.74043717 -54.27531953 -41.92124932\n",
      " -35.13272106 -27.13771558 -17.19014009  -9.0058639   -2.20367056\n",
      "   7.48349382  15.42490371  24.0876991   31.96096047  38.44689144\n",
      "  47.56940293  55.64124334  65.7878908   73.60530021  82.03035839\n",
      "  88.75175173]\n",
      "rec.residual([2, 4]) = [-47.25831114 -41.06073768 -35.40710383 -34.27531953 -25.25458265\n",
      " -21.79938773 -17.13771558 -10.52347342  -5.67253057  -2.20367056\n",
      "   4.15016049   8.75823704  14.0876991   18.62762714  21.78022477\n",
      "  27.56940293  32.30791     39.12122414  43.60530021  48.69702506\n",
      "  52.08508507]\n"
     ]
    }
   ],
   "source": [
    "print(\"rec.residual() =\", rec.residual())\n",
    "print(\"rec.residual([2, 4]) =\", rec.residual([2, 4]))"
   ]
  },
  {
   "cell_type": "markdown",
   "metadata": {},
   "source": [
    "The FitRecipe.residual function can be directly used with the scipy\n",
    "leastsq function for minimizing a sum of squares."
   ]
  },
  {
   "cell_type": "code",
   "execution_count": 15,
   "metadata": {
    "collapsed": false
   },
   "outputs": [
    {
     "data": {
      "text/plain": [
       "(array([ 0.50664083,  2.99718481]), 3)"
      ]
     },
     "execution_count": 15,
     "metadata": {},
     "output_type": "execute_result"
    }
   ],
   "source": [
    "from scipy.optimize import leastsq\n",
    "leastsq(rec.residual, rec.values)"
   ]
  },
  {
   "cell_type": "markdown",
   "metadata": {},
   "source": [
    " Recipe variables and the linked line-function parameters are set to the\n",
    " new optimized values."
   ]
  },
  {
   "cell_type": "code",
   "execution_count": 16,
   "metadata": {
    "collapsed": false
   },
   "outputs": [
    {
     "name": "stdout",
     "output_type": "stream",
     "text": [
      "['A', 'B'] --> [ 0.50664083  2.99718481]\n",
      "linefit\n",
      "-------------------------------------------------------------------------------\n",
      "A                    0.506640829571\n",
      "B                    2.99718481036\n",
      "dy                   [ 0.3  0.3  0.3  0.3  0.3  0.3  0.3  0.3  0.3  0.3  0.3  0\n",
      "x                    [-10.  -9.  -8.  -7.  -6.  -5.  -4.  -3.  -2.  -1.   0.   \n",
      "y                    [-1.82250666 -1.6817787  -1.37786885  0.28259586 -0.423625\n",
      "\n",
      "\n"
     ]
    }
   ],
   "source": [
    "print(rec.names, \"-->\", rec.values)\n",
    "linefit.show()"
   ]
  },
  {
   "cell_type": "markdown",
   "metadata": {},
   "source": [
    " The calculated function is available in the `ycalc` attribute of the profile.\n",
    " It can be also accessed from the `linefit` contribution attribute of the\n",
    " recipe as `rec.linefit.profile.ycalc`."
   ]
  },
  {
   "cell_type": "code",
   "execution_count": 17,
   "metadata": {
    "collapsed": false
   },
   "outputs": [
    {
     "data": {
      "text/plain": [
       "<matplotlib.text.Text at 0x40578d0>"
      ]
     },
     "execution_count": 17,
     "metadata": {},
     "output_type": "execute_result"
    },
    {
     "data": {
      "image/png": "[encoded data removed]",
      "text/plain": [
       "<matplotlib.figure.Figure at 0x3e0a210>"
      ]
     },
     "metadata": {},
     "output_type": "display_data"
    }
   ],
   "source": [
    "plot(linedata.x, linedata.y, 'x', linedata.x, linedata.ycalc, '-')\n",
    "title('Line fit using the leastsq least-squares optimizer')"
   ]
  },
  {
   "cell_type": "markdown",
   "metadata": {},
   "source": [
    "The `FitRecipe.scalarResidual()` function returns the sum of squares and can\n",
    "be used with a minimizer that requires a scalar function:"
   ]
  },
  {
   "cell_type": "code",
   "execution_count": 18,
   "metadata": {
    "collapsed": false
   },
   "outputs": [
    {
     "name": "stdout",
     "output_type": "stream",
     "text": [
      "Optimization terminated successfully.\n",
      "         Current function value: 21.482450\n",
      "         Iterations: 49\n",
      "         Function evaluations: 93\n",
      "['A', 'B'] --> [ 0.50664359  2.99724135]\n"
     ]
    },
    {
     "data": {
      "text/plain": [
       "<matplotlib.text.Text at 0x414fb10>"
      ]
     },
     "execution_count": 18,
     "metadata": {},
     "output_type": "execute_result"
    },
    {
     "data": {
      "image/png": "[encoded data removed]",
      "text/plain": [
       "<matplotlib.figure.Figure at 0x4078f90>"
      ]
     },
     "metadata": {},
     "output_type": "display_data"
    }
   ],
   "source": [
    "from scipy.optimize import fmin\n",
    "fmin(rec.scalarResidual, [1, 1])\n",
    "print(rec.names, \"-->\", rec.values)\n",
    "plot(linedata.x, linedata.y, 'x', linedata.x, linedata.ycalc, '-')\n",
    "title('Line fit using the fmin scalar optimizer')"
   ]
  },
  {
   "cell_type": "markdown",
   "metadata": {},
   "source": [
    "For a converged fit recipe, the details of the fit can be extracted\n",
    " with the FitResults class."
   ]
  },
  {
   "cell_type": "code",
   "execution_count": 19,
   "metadata": {
    "collapsed": false
   },
   "outputs": [
    {
     "name": "stdout",
     "output_type": "stream",
     "text": [
      "Overall\n",
      "-------------------------------------------------------------------------------\n",
      "Residual       21.48244998 \n",
      "Contributions  21.48244998 \n",
      "Restraints     0.00000000  \n",
      "Chi2           21.48244998 \n",
      "Reduced Chi2   1.13065526  \n",
      "Rw             0.07057009  \n",
      "\n",
      "Variables\n",
      "-------------------------------------------------------------------------------\n",
      "A  5.06643592e-01 +/- 1.08112495e-02\n",
      "B  2.99724135e+00 +/- 6.54653673e-02\n",
      "\n",
      "Variable Correlations greater than 25%\n",
      "-------------------------------------------------------------------------------\n",
      "No correlations greater than 25%\n",
      "\n"
     ]
    }
   ],
   "source": [
    "from diffpy.srfit.fitbase import FitResults\n",
    "res = FitResults(rec)\n",
    "print(res)"
   ]
  },
  {
   "cell_type": "markdown",
   "metadata": {},
   "source": [
    "Variables defined in the recipe can be fixed to a constant value."
   ]
  },
  {
   "cell_type": "code",
   "execution_count": 20,
   "metadata": {
    "collapsed": false
   },
   "outputs": [],
   "source": [
    "rec.fix(B=0)"
   ]
  },
  {
   "cell_type": "markdown",
   "metadata": {},
   "source": [
    "The fixed variables can be checked using the \"fixednames\" and\n",
    " \"fixedvalues\" attributes of a recipe."
   ]
  },
  {
   "cell_type": "code",
   "execution_count": 21,
   "metadata": {
    "collapsed": false
   },
   "outputs": [
    {
     "name": "stdout",
     "output_type": "stream",
     "text": [
      "free: ['A'] --> ['A']\n",
      "fixed: ['B'] --> [0]\n"
     ]
    }
   ],
   "source": [
    "print(\"free:\", rec.names, \"-->\", rec.names)\n",
    "print(\"fixed:\", rec.fixednames, \"-->\", rec.fixedvalues)"
   ]
  },
  {
   "cell_type": "markdown",
   "metadata": {},
   "source": [
    "The fit can be rerun with a constant variable B."
   ]
  },
  {
   "cell_type": "code",
   "execution_count": 22,
   "metadata": {
    "collapsed": false
   },
   "outputs": [
    {
     "name": "stdout",
     "output_type": "stream",
     "text": [
      "Overall\n",
      "-------------------------------------------------------------------------------\n",
      "Residual       2117.54303318\n",
      "Contributions  2117.54303318\n",
      "Restraints     0.00000000  \n",
      "Chi2           2117.54303318\n",
      "Reduced Chi2   105.87715166\n",
      "Rw             0.70063998  \n",
      "\n",
      "Variables\n",
      "-------------------------------------------------------------------------------\n",
      "A  5.06640829e-01 +/- 1.08112496e-02\n",
      "\n",
      "Fixed Variables\n",
      "-------------------------------------------------------------------------------\n",
      "B  0.00000000e+00\n",
      "\n",
      "Variable Correlations greater than 25%\n",
      "-------------------------------------------------------------------------------\n",
      "No correlations greater than 25%\n",
      "\n"
     ]
    },
    {
     "data": {
      "text/plain": [
       "<matplotlib.text.Text at 0x3eb0a10>"
      ]
     },
     "execution_count": 22,
     "metadata": {},
     "output_type": "execute_result"
    },
    {
     "data": {
      "image/png": "[encoded data removed]",
      "text/plain": [
       "<matplotlib.figure.Figure at 0x3489fd0>"
      ]
     },
     "metadata": {},
     "output_type": "display_data"
    }
   ],
   "source": [
    "leastsq(rec.residual, rec.values)\n",
    "print(FitResults(rec))\n",
    "plot(linedata.x, linedata.y, 'x', linedata.x, linedata.ycalc, '-')\n",
    "title('Line fit for variable B fixed to B=0')"
   ]
  },
  {
   "cell_type": "markdown",
   "metadata": {},
   "source": [
    "Fixed variables may be released with the `free()` function.\n",
    " Calling it as `free(\"all\")` releases all fixed variables."
   ]
  },
  {
   "cell_type": "code",
   "execution_count": 23,
   "metadata": {
    "collapsed": false
   },
   "outputs": [],
   "source": [
    "rec.free('all')"
   ]
  },
  {
   "cell_type": "markdown",
   "metadata": {},
   "source": [
    "Variables may be constrained to a result of an expression."
   ]
  },
  {
   "cell_type": "code",
   "execution_count": 24,
   "metadata": {
    "collapsed": false
   },
   "outputs": [],
   "source": [
    "rec.constrain(rec.A, \"2 * B\")"
   ]
  },
  {
   "cell_type": "markdown",
   "metadata": {},
   "source": [
    "Perform linear fit where the slope value must be two times the offset."
   ]
  },
  {
   "cell_type": "code",
   "execution_count": 25,
   "metadata": {
    "collapsed": false
   },
   "outputs": [
    {
     "name": "stdout",
     "output_type": "stream",
     "text": [
      "Overall\n",
      "-------------------------------------------------------------------------------\n",
      "Residual       1766.30403027\n",
      "Contributions  1766.30403027\n",
      "Restraints     0.00000000  \n",
      "Chi2           1766.30403027\n",
      "Reduced Chi2   88.31520151 \n",
      "Rw             0.63989914  \n",
      "\n",
      "Variables\n",
      "-------------------------------------------------------------------------------\n",
      "B  2.71901889e-01 +/- 5.38729019e-03\n",
      "\n",
      "Variable Correlations greater than 25%\n",
      "-------------------------------------------------------------------------------\n",
      "No correlations greater than 25%\n",
      "\n"
     ]
    },
    {
     "data": {
      "text/plain": [
       "<matplotlib.text.Text at 0x3ee44d0>"
      ]
     },
     "execution_count": 25,
     "metadata": {},
     "output_type": "execute_result"
    },
    {
     "data": {
      "image/png": "[encoded data removed]",
      "text/plain": [
       "<matplotlib.figure.Figure at 0x3b101d0>"
      ]
     },
     "metadata": {},
     "output_type": "display_data"
    }
   ],
   "source": [
    "leastsq(rec.residual, rec.values)\n",
    "print(FitResults(rec))\n",
    "plot(linedata.x, linedata.y, 'x', linedata.x, linedata.ycalc, '-')\n",
    "title('Line fit for variable A constrained to A = 2*B')"
   ]
  },
  {
   "cell_type": "markdown",
   "metadata": {},
   "source": [
    "Constraint expressions can be removed by calling the unconstrain function."
   ]
  },
  {
   "cell_type": "code",
   "execution_count": 26,
   "metadata": {
    "collapsed": false
   },
   "outputs": [],
   "source": [
    "rec.unconstrain(rec.A)"
   ]
  },
  {
   "cell_type": "markdown",
   "metadata": {},
   "source": [
    " Variables may be restrained to a specific range.  Here \"ub\" is the upper\n",
    " boundary and \"sig\" acts as a standard deviation for ((x - ub)/sig)**2\n",
    " penalty function."
   ]
  },
  {
   "cell_type": "code",
   "execution_count": 27,
   "metadata": {
    "collapsed": false
   },
   "outputs": [],
   "source": [
    "arst = rec.restrain(rec.A, ub=0.2, sig=0.001)"
   ]
  },
  {
   "cell_type": "markdown",
   "metadata": {},
   "source": [
    "Perform fit with the line slope restrained to a maximum value of 0.2:"
   ]
  },
  {
   "cell_type": "code",
   "execution_count": 28,
   "metadata": {
    "collapsed": false
   },
   "outputs": [
    {
     "name": "stdout",
     "output_type": "stream",
     "text": [
      "Overall\n",
      "-------------------------------------------------------------------------------\n",
      "Residual       819.12507052\n",
      "Contributions  812.35868498\n",
      "Restraints     6.76638555  \n",
      "Chi2           812.35868498\n",
      "Reduced Chi2   40.61793425 \n",
      "Rw             0.43396301  \n",
      "\n",
      "Variables\n",
      "-------------------------------------------------------------------------------\n",
      "A  2.02601228e-01 +/- 9.95749478e-04\n",
      "B  2.99718481e+00 +/- 6.54653670e-02\n",
      "\n",
      "Variable Correlations greater than 25%\n",
      "-------------------------------------------------------------------------------\n",
      "No correlations greater than 25%\n",
      "\n"
     ]
    },
    {
     "data": {
      "text/plain": [
       "<matplotlib.text.Text at 0x3e98c50>"
      ]
     },
     "execution_count": 28,
     "metadata": {},
     "output_type": "execute_result"
    },
    {
     "data": {
      "image/png": "[encoded data removed]",
      "text/plain": [
       "<matplotlib.figure.Figure at 0x407a0d0>"
      ]
     },
     "metadata": {},
     "output_type": "display_data"
    }
   ],
   "source": [
    "leastsq(rec.residual, rec.values)\n",
    "print(FitResults(rec))\n",
    "plot(linedata.x, linedata.y, 'x', linedata.x, linedata.ycalc, '-')\n",
    "title('Line fit with A restrained to an upper bound of 0.2')"
   ]
  },
  {
   "cell_type": "code",
   "execution_count": 28,
   "metadata": {
    "collapsed": false
   },
   "outputs": [],
   "source": []
  }
 ],
 "metadata": {
  "kernelspec": {
   "display_name": "Python 2",
   "language": "python",
   "name": "python2"
  },
  "language_info": {
   "codemirror_mode": {
    "name": "ipython",
    "version": 2
   },
   "file_extension": ".py",
   "mimetype": "text/x-python",
   "name": "python",
   "nbconvert_exporter": "python",
   "pygments_lexer": "ipython2",
   "version": "2.7.11"
  }
 },
 "nbformat": 4,
 "nbformat_minor": 0
}
